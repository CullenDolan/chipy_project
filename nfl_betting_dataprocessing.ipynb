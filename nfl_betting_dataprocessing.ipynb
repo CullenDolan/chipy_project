{
 "cells": [
  {
   "cell_type": "code",
   "execution_count": 16,
   "metadata": {
    "collapsed": false
   },
   "outputs": [],
   "source": [
    "#import libraries\n",
    "import numpy as np\n",
    "import pandas as pd\n",
    "import matplotlib.pyplot as plt\n",
    "\n",
    "#import the csv file\n",
    "df = pd.read_csv('nfl_betting.csv')"
   ]
  },
  {
   "cell_type": "code",
   "execution_count": 17,
   "metadata": {
    "collapsed": false
   },
   "outputs": [],
   "source": [
    "#remove the weather detail column because it is unstructred free text\n",
    "#remove games that did not have a betting line and have not occured\n",
    "new_df = df.drop(['weather_detail'], axis = 1).dropna(subset = ['over_under_line', 'score_home'])\n",
    "\n",
    "#look at the data frame>> new_df.head()\n",
    "#count how many data points i have>> new_df['over_under_line'].count()"
   ]
  },
  {
   "cell_type": "code",
   "execution_count": 18,
   "metadata": {
    "collapsed": false
   },
   "outputs": [],
   "source": [
    "#split the columns into independent and dependent variables then recombine\n",
    "#dependent variable is in the middle of independent variables\n",
    "x1 = new_df.iloc[:,0:12]\n",
    "x2 = new_df.iloc[:,14:16]\n",
    "x = pd.merge(x1, x2, left_index=True, right_index=True).values\n",
    "\n",
    "#create the over under line as the dependent variable\n",
    "y = new_df['score_home'] + new_df['score_away']"
   ]
  },
  {
   "cell_type": "code",
   "execution_count": 19,
   "metadata": {
    "collapsed": false
   },
   "outputs": [],
   "source": [
    "#remove any additional blank cells with an average\n",
    "from sklearn.preprocessing import Imputer\n",
    "imputer = Imputer(missing_values = 'NaN', strategy = 'mean', axis = 0)\n",
    "\n",
    "#fit the object to the matrix x\n",
    "imputer = imputer.fit(x[:,9:12])#9:12\n",
    "\n",
    "#replace the missing values\n",
    "x[:,9:12] = imputer.transform(x[:,9:12])"
   ]
  },
  {
   "cell_type": "code",
   "execution_count": 20,
   "metadata": {
    "collapsed": false
   },
   "outputs": [],
   "source": [
    "#encode categorical variables\n",
    "from sklearn.preprocessing import LabelEncoder, OneHotEncoder\n",
    "labelencoder_x = LabelEncoder()\n",
    "x[:,3] = labelencoder_x.fit_transform(x[:,3])"
   ]
  },
  {
   "cell_type": "code",
   "execution_count": 14,
   "metadata": {
    "collapsed": false
   },
   "outputs": [
    {
     "data": {
      "text/plain": [
       "OneHotEncoder(categorical_features=[3], dtype=<class 'float'>,\n",
       "       handle_unknown='error', n_values='auto', sparse=True)"
      ]
     },
     "execution_count": 14,
     "metadata": {},
     "output_type": "execute_result"
    }
   ],
   "source": [
    "onehotencoder = OneHotEncoder(categorical_features = [3])\n",
    "#x = onehotencoder.fit_transform(x).toarray()\n",
    "onehotencoder"
   ]
  }
 ],
 "metadata": {
  "anaconda-cloud": {},
  "kernelspec": {
   "display_name": "Python [default]",
   "language": "python",
   "name": "python3"
  },
  "language_info": {
   "codemirror_mode": {
    "name": "ipython",
    "version": 3
   },
   "file_extension": ".py",
   "mimetype": "text/x-python",
   "name": "python",
   "nbconvert_exporter": "python",
   "pygments_lexer": "ipython3",
   "version": "3.5.2"
  }
 },
 "nbformat": 4,
 "nbformat_minor": 1
}
