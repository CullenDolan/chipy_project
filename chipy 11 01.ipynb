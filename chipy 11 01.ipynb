{
 "cells": [
  {
   "cell_type": "code",
   "execution_count": null,
   "metadata": {
    "collapsed": true
   },
   "outputs": [],
   "source": [
    "#import libraries\n",
    "import numpy as np\n",
    "import pandas as pd\n",
    "import matplotlib.pyplot as plt\n",
    "\n",
    "#import the csv file\n",
    "df = pd.read_csv('nfl_data.csv')\n",
    "#remove the weather detail column because it is unstructred free text\n",
    "#remove the schedule date because i have separate columns with year and week of the season as seperate columns\n",
    "#remove gameid\n",
    "#remove games that did not have a betting line and have not occured\n",
    "new_df = df.drop(['weather_detail','schedule_date','game_id'], axis = 1).dropna(subset = ['over_under_line', \n",
    "                                                                                          'score_home'])\n",
    "#replace text w/ numbers for the week \n",
    "new_df = new_df.replace(['Wildcard', 'WildCard','Division', 'Conference', 'Superbowl','SuperBowl'],[18,18,19,20,21,21])\n",
    "#find what the column type is (convert everything to float>> new_df.dtypes\n",
    "#convert 'schedule_week' from object to float\n",
    "new_df['schedule_week'] = new_df.schedule_week.astype(float)\n",
    "#convert the over underline from object to float\n",
    "new_df.over_under_line = pd.to_numeric(new_df.over_under_line, errors = 'coerce')\n",
    "#change humidity to a float and if there are erros change to NaN\n",
    "new_df.weather_humidity = pd.to_numeric(new_df.weather_humidity, errors = 'coerce')\n",
    "#replace NaN with a value 45\n",
    "#The NaN cells were when games were played inside, so I took an average indoor humidity\n",
    "new_df.weather_humidity.fillna(45, inplace = True)\n",
    "new_df.head()\n",
    "#overundre line; weathertemp; weather wind mph need zeros\n",
    "#split the columns into independent and dependent variables then recombine\n",
    "#dependent variable is in the middle of independent variables\n",
    "x1 = new_df.iloc[:,0:11]\n",
    "x2 = new_df.iloc[:,13:15]\n",
    "x = pd.merge(x1, x2, left_index = True, right_index = True).values\n",
    "#encode categorical variables to numerical values\n",
    "from sklearn.preprocessing import LabelEncoder, OneHotEncoder\n",
    "labelencoder_x = LabelEncoder()\n",
    "#home team\n",
    "x[:,2] = labelencoder_x.fit_transform(x[:,2])\n",
    "#away team\n",
    "x[:,3] = labelencoder_x.fit_transform(x[:,3])\n",
    "#stadium\n",
    "x[:,4] = labelencoder_x.fit_transform(x[:,4])\n",
    "#team favorite\n",
    "x[:,5] = labelencoder_x.fit_transform(x[:,5])\n",
    "#neutral stadium? (True = neutral)\n",
    "x[:,11] = labelencoder_x.fit_transform(x[:,11])\n",
    "#playoff game?(True = playoff game)\n",
    "x[:,12] = labelencoder_x.fit_transform(x[:,12])\n",
    "x\n",
    "#create over under line as independent variable\n",
    "new_df['actual_score'] = new_df.score_home + new_df.score_away\n",
    "#use lambda function to create the boolean to state if the score was over or under\n",
    "new_df['over_line']=new_df.apply(lambda row: 1 if row.actual_score > row.over_under_line else 0, axis = 1)\n",
    "#Create the dependent variabel\n",
    "y = new_df.iloc[:,16].values"
   ]
  }
 ],
 "metadata": {
  "anaconda-cloud": {},
  "kernelspec": {
   "display_name": "Python [default]",
   "language": "python",
   "name": "python3"
  },
  "language_info": {
   "codemirror_mode": {
    "name": "ipython",
    "version": 3
   },
   "file_extension": ".py",
   "mimetype": "text/x-python",
   "name": "python",
   "nbconvert_exporter": "python",
   "pygments_lexer": "ipython3",
   "version": "3.5.2"
  }
 },
 "nbformat": 4,
 "nbformat_minor": 1
}
